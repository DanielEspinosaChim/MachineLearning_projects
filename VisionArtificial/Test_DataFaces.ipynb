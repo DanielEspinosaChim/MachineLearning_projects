{
 "cells": [
  {
   "cell_type": "code",
   "execution_count": 8,
   "metadata": {},
   "outputs": [],
   "source": [
    "import cv2\n",
    "import mediapipe as mp\n",
    "\n"
   ]
  },
  {
   "cell_type": "code",
   "execution_count": 9,
   "metadata": {},
   "outputs": [
    {
     "name": "stdout",
     "output_type": "stream",
     "text": [
      "El archivo D:/proyectos ML/VisionArtificial/Mascarillas dataset/mask_model.xml existe.\n"
     ]
    }
   ],
   "source": [
    "\n",
    "import os\n",
    "\n",
    "model_path = 'D:/proyectos ML/VisionArtificial/Mascarillas dataset/mask_model.xml'  # Ruta del modelo\n",
    "\n",
    "if os.path.exists(model_path):\n",
    "    print(f\"El archivo {model_path} existe.\")\n",
    "else:\n",
    "    print(f\"Error: El archivo {model_path} no se encuentra en la ruta especificada.\")\n"
   ]
  },
  {
   "cell_type": "code",
   "execution_count": 10,
   "metadata": {},
   "outputs": [],
   "source": [
    "mp_face_detection = mp.solutions.face_detection\n",
    "LABELS = ['Con_mascarilla', 'Sin_mascarilla']\n",
    "\n",
    "face_mask = cv2.face.LBPHFaceRecognizer_create()\n",
    "face_mask.read(model_path)"
   ]
  },
  {
   "cell_type": "code",
   "execution_count": 11,
   "metadata": {},
   "outputs": [],
   "source": [
    "cap = cv2.VideoCapture(0)\n",
    "\n",
    "# Inicializa Mediapipe FaceDetection\n",
    "mp_face_detection = mp.solutions.face_detection\n",
    "with mp_face_detection.FaceDetection(min_detection_confidence=0.5) as face_detection:\n",
    "    \n",
    "    while True:\n",
    "        ret, frame = cap.read()\n",
    "        if not ret:\n",
    "            break\n",
    "        \n",
    "        # Voltea la imagen horizontalmente\n",
    "        frame = cv2.flip(frame, 1)\n",
    "        high, width, _ = frame.shape\n",
    "\n",
    "        # Convierte el frame a RGB para mediapipe\n",
    "        frame_rgb = cv2.cvtColor(frame, cv2.COLOR_BGR2RGB)\n",
    "        results = face_detection.process(frame_rgb)\n",
    "\n",
    "        # Si se detectaron caras\n",
    "        if results.detections is not None:\n",
    "            for detection in results.detections:\n",
    "                # Calcula las coordenadas de la caja delimitadora\n",
    "                xmin = int(detection.location_data.relative_bounding_box.xmin * width)\n",
    "                ymin = int(detection.location_data.relative_bounding_box.ymin * high)\n",
    "                w = int(detection.location_data.relative_bounding_box.width * width)\n",
    "                h = int(detection.location_data.relative_bounding_box.height * high)\n",
    "                \n",
    "                # Si las coordenadas están fuera del frame, omitir\n",
    "                if xmin < 0 or ymin < 0:\n",
    "                    continue\n",
    "                \n",
    "                \n",
    "                face_img = frame[max(0, ymin):min(high, ymin+h), max(0, xmin):min(width, xmin+w)]\n",
    "                face_img = cv2.cvtColor(face_img, cv2.COLOR_BGR2GRAY)\n",
    "                face_img  = cv2.resize(face_img, (72, 72), interpolation=cv2.INTER_CUBIC)\n",
    "                # Muestra la cara recortada\n",
    "                cv2.imshow('Face', face_img)\n",
    "                \n",
    "                results = face_mask.predict(face_img)\n",
    "                cv2.putText(frame, \"{}\".format(results), (xmin, ymin-5), 1, 1.3, (210,124,176), 1, cv2.LINE_AA)\n",
    "                #cv2.rectangle(frame, (xmin, ymin), (xmin+w, ymin+h), (255, 0, 0), 2)\n",
    "                \n",
    "                # Si el resultado de la predicción es menor que el umbral de 138\n",
    "                if results[1] < 138:\n",
    "                    # Determina el color en función de si tiene o no mascarilla\n",
    "                    color = (0, 255, 0) if LABELS[results[0]] == 'Con_mascarilla' else (0, 0, 255)\n",
    "                    cv2.putText(frame, \"{}\".format(LABELS[results[0]]), (xmin, ymin-25), 2, 1, color, 1, cv2.LINE_AA)\n",
    "                    cv2.rectangle(frame, (xmin, ymin), (xmin+w, ymin+h), color, 2)\n",
    "\n",
    "                    \n",
    "        \n",
    "        # Muestra el frame completo\n",
    "        cv2.imshow('Frame', frame)\n",
    "        \n",
    "        # Espera por la tecla 'ESC' para cerrar la ventana\n",
    "        k = cv2.waitKey(1) \n",
    "        if k == 27:  # Si se presiona la tecla 'ESC'\n",
    "            break\n",
    "\n",
    "# Libera la cámara y destruye las ventanas\n",
    "cap.release()\n",
    "cv2.destroyAllWindows()"
   ]
  },
  {
   "cell_type": "code",
   "execution_count": null,
   "metadata": {},
   "outputs": [],
   "source": []
  }
 ],
 "metadata": {
  "kernelspec": {
   "display_name": "env",
   "language": "python",
   "name": "python3"
  },
  "language_info": {
   "codemirror_mode": {
    "name": "ipython",
    "version": 3
   },
   "file_extension": ".py",
   "mimetype": "text/x-python",
   "name": "python",
   "nbconvert_exporter": "python",
   "pygments_lexer": "ipython3",
   "version": "3.12.2"
  }
 },
 "nbformat": 4,
 "nbformat_minor": 2
}
